{
  "nbformat": 4,
  "nbformat_minor": 0,
  "metadata": {
    "colab": {
      "name": "Actividad_01 .ipynb",
      "provenance": [],
      "collapsed_sections": [],
      "authorship_tag": "ABX9TyM6sg6pKAJQ3pm+htQi9TXu",
      "include_colab_link": true
    },
    "kernelspec": {
      "name": "python3",
      "display_name": "Python 3"
    },
    "language_info": {
      "name": "python"
    }
  },
  "cells": [
    {
      "cell_type": "markdown",
      "metadata": {
        "id": "view-in-github",
        "colab_type": "text"
      },
      "source": [
        "<a href=\"https://colab.research.google.com/github/Lenrique26/IO/blob/main/Actividad_01_.ipynb\" target=\"_parent\"><img src=\"https://colab.research.google.com/assets/colab-badge.svg\" alt=\"Open In Colab\"/></a>"
      ]
    },
    {
      "cell_type": "markdown",
      "source": [
        "Sistema de ecuaciones"
      ],
      "metadata": {
        "id": "6vWvC1jL3KLI"
      }
    },
    {
      "cell_type": "code",
      "source": [
        "# Librerias\n",
        "import pandas as pd\n",
        "import numpy as np\n",
        "import matplotlib.pyplot as plt"
      ],
      "metadata": {
        "id": "tBvq9thZ45sz"
      },
      "execution_count": 56,
      "outputs": []
    },
    {
      "cell_type": "markdown",
      "source": [
        "# Primer ejercicio"
      ],
      "metadata": {
        "id": "fBE4H_9f5isi"
      }
    },
    {
      "cell_type": "code",
      "source": [
        ""
      ],
      "metadata": {
        "id": "CLeohAet3SMi"
      },
      "execution_count": 56,
      "outputs": []
    },
    {
      "cell_type": "code",
      "source": [
        "x = np.array ([50,600])"
      ],
      "metadata": {
        "id": "isnxB0nd9PXC"
      },
      "execution_count": 57,
      "outputs": []
    },
    {
      "cell_type": "code",
      "source": [
        "y1 = -x + 600\n",
        "print (y1)"
      ],
      "metadata": {
        "colab": {
          "base_uri": "https://localhost:8080/"
        },
        "id": "YVN3WKzM9e47",
        "outputId": "50599067-b6b1-4444-af02-450cd8042988"
      },
      "execution_count": 58,
      "outputs": [
        {
          "output_type": "stream",
          "name": "stdout",
          "text": [
            "[550   0]\n"
          ]
        }
      ]
    },
    {
      "cell_type": "code",
      "source": [
        "y2 = 2*x\n",
        "print (y1)"
      ],
      "metadata": {
        "colab": {
          "base_uri": "https://localhost:8080/"
        },
        "id": "yxF81wxa-dCn",
        "outputId": "d2ca3976-c4ca-4332-c5d7-22d3e5386564"
      },
      "execution_count": 59,
      "outputs": [
        {
          "output_type": "stream",
          "name": "stdout",
          "text": [
            "[550   0]\n"
          ]
        }
      ]
    },
    {
      "cell_type": "code",
      "source": [
        "y2 = 2*x\n",
        "print (y2)"
      ],
      "metadata": {
        "colab": {
          "base_uri": "https://localhost:8080/"
        },
        "id": "E05VqFeK-tdD",
        "outputId": "2f268b11-4038-4fb8-8676-2b1a055ef851"
      },
      "execution_count": 60,
      "outputs": [
        {
          "output_type": "stream",
          "name": "stdout",
          "text": [
            "[ 100 1200]\n"
          ]
        }
      ]
    },
    {
      "cell_type": "markdown",
      "source": [
        "# Grafico\n"
      ],
      "metadata": {
        "id": "bDA7uwsb_Qkw"
      }
    },
    {
      "cell_type": "code",
      "source": [
        ""
      ],
      "metadata": {
        "id": "6meigjNL27mk"
      },
      "execution_count": 60,
      "outputs": []
    },
    {
      "cell_type": "code",
      "source": [
        "fig = plt.figure(figsize=(8,5))\n",
        "\n",
        "plt.plot(x,y1, label= \"$y_{1}= -x + 600$\")\n",
        "plt.plot(x,y2, label = \"$y_{2}= 2x$\")\n",
        "\n",
        "plt.title(\"Sistema de Ecuaciones\", fontsize=16)\n",
        "plt.xlabel(\"$x$\", fontsize=14)\n",
        "plt.ylabel(\"$y$\", fontsize=14)\n",
        "plt.grid(True)\n",
        "plt.legend()\n",
        "plt.savefig(\"grafico-01.png\", format=\"PNG\", dpi=320)\n",
        "plt.show()"
      ],
      "metadata": {
        "colab": {
          "base_uri": "https://localhost:8080/",
          "height": 356
        },
        "id": "HaDk3F8__WOs",
        "outputId": "478ad7d9-a5d3-458c-f57b-e8e224340949"
      },
      "execution_count": 61,
      "outputs": [
        {
          "output_type": "display_data",
          "data": {
            "text/plain": [
              "<Figure size 576x360 with 1 Axes>"
            ],
            "image/png": "[encoded data removed]"
          },
          "metadata": {
            "needs_background": "light"
          }
        }
      ]
    },
    {
      "cell_type": "markdown",
      "source": [
        "Segundo ejercicio"
      ],
      "metadata": {
        "id": "fCAWXgi7G4PV"
      }
    },
    {
      "cell_type": "code",
      "source": [
        "x1 = np.array([0,5])\n",
        "print(x1)"
      ],
      "metadata": {
        "colab": {
          "base_uri": "https://localhost:8080/"
        },
        "id": "1qTSt-d9G7dX",
        "outputId": "280d337e-0dad-43bc-a21c-4bed08f7d7b4"
      },
      "execution_count": 62,
      "outputs": [
        {
          "output_type": "stream",
          "name": "stdout",
          "text": [
            "[0 5]\n"
          ]
        }
      ]
    },
    {
      "cell_type": "code",
      "source": [
        "y3 = -2*x1 + 5\n",
        "print(y3)"
      ],
      "metadata": {
        "colab": {
          "base_uri": "https://localhost:8080/"
        },
        "id": "SctO2dGyH9gj",
        "outputId": "75c93e92-dfe6-4b5f-9a8e-2900ab30b61f"
      },
      "execution_count": 63,
      "outputs": [
        {
          "output_type": "stream",
          "name": "stdout",
          "text": [
            "[ 5 -5]\n"
          ]
        }
      ]
    },
    {
      "cell_type": "code",
      "source": [
        "y4 = (3*x1-4)/2\n",
        "print(y4)"
      ],
      "metadata": {
        "colab": {
          "base_uri": "https://localhost:8080/"
        },
        "id": "RMbQdGJJIP47",
        "outputId": "0c88b635-d7ee-4a1a-a7cd-c68bb66b39c8"
      },
      "execution_count": 64,
      "outputs": [
        {
          "output_type": "stream",
          "name": "stdout",
          "text": [
            "[-2.   5.5]\n"
          ]
        }
      ]
    },
    {
      "cell_type": "code",
      "source": [
        "yticks = np.arange(-3, 6, 1)\n",
        "print(len(yticks))\n",
        "print(yticks)"
      ],
      "metadata": {
        "colab": {
          "base_uri": "https://localhost:8080/"
        },
        "id": "ushj4T0GPZaR",
        "outputId": "395f3c2e-2055-44ea-e6cd-c554d5bcc715"
      },
      "execution_count": 65,
      "outputs": [
        {
          "output_type": "stream",
          "name": "stdout",
          "text": [
            "9\n",
            "[-3 -2 -1  0  1  2  3  4  5]\n"
          ]
        }
      ]
    },
    {
      "cell_type": "markdown",
      "source": [
        "Grafico"
      ],
      "metadata": {
        "id": "bWYWE1RiIlOh"
      }
    },
    {
      "cell_type": "code",
      "source": [
        "fig = plt.figure(figsize=(10,5))\n",
        "plt.plot(x1,y3, color= \"indigo\", lw=2, label= \"$y_{1} = -2x*5$\")\n",
        "plt.plot(x1,y4, color= \"orchid\", lw=2, label= \"$y_{2}= (3x-4)/2$\")\n",
        "\n",
        "ticks = np.arange(-3, 6, 1)\n",
        "\n",
        "plt.yticks(ticks)\n",
        "plt.xticks(ticks)\n",
        "plt.title (\"Sistema de Ecuaciones\")\n",
        "plt.xlabel (\"$x$\")\n",
        "plt.ylabel (\"$y$\")\n",
        "plt.grid(True)\n",
        "plt.legend()\n",
        "plt.show()"
      ],
      "metadata": {
        "colab": {
          "base_uri": "https://localhost:8080/",
          "height": 350
        },
        "id": "RVLP0kgiIm5v",
        "outputId": "e88d8a0e-63ae-4c44-da47-5eed0547299e"
      },
      "execution_count": 68,
      "outputs": [
        {
          "output_type": "display_data",
          "data": {
            "text/plain": [
              "<Figure size 720x360 with 1 Axes>"
            ],
            "image/png": "[encoded data removed]"
          },
          "metadata": {
            "needs_background": "light"
          }
        }
      ]
    }
  ]
}